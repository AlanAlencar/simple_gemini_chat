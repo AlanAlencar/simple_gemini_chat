{
  "nbformat": 4,
  "nbformat_minor": 0,
  "metadata": {
    "colab": {
      "provenance": [],
      "authorship_tag": "ABX9TyNAMWW4eAFAvzQRR63oKFXX",
      "include_colab_link": true
    },
    "kernelspec": {
      "name": "python3",
      "display_name": "Python 3"
    },
    "language_info": {
      "name": "python"
    }
  },
  "cells": [
    {
      "cell_type": "markdown",
      "metadata": {
        "id": "view-in-github",
        "colab_type": "text"
      },
      "source": [
        "<a href=\"https://colab.research.google.com/github/AlanAlencar/simple_gemini_chat/blob/main/model_test_gemini.ipynb\" target=\"_parent\"><img src=\"https://colab.research.google.com/assets/colab-badge.svg\" alt=\"Open In Colab\"/></a>"
      ]
    },
    {
      "cell_type": "markdown",
      "source": [
        "# Instalar pacote para Python do google IA\n",
        "Instalando o pacote de funcionalidades do google IA para Python.  \n",
        "_-q_ para instalar em modo silencioso.  \n",
        "_-U_ para atualizar versão se já tiver outra instalada."
      ],
      "metadata": {
        "id": "4SneVfaduzxj"
      }
    },
    {
      "cell_type": "code",
      "execution_count": 25,
      "metadata": {
        "id": "2_OrmcR0rDx3"
      },
      "outputs": [],
      "source": [
        "# Baixar e instalar a biblioteca do google-genIA para Python\n",
        "!pip install -q -U google-generativeai"
      ]
    },
    {
      "cell_type": "markdown",
      "source": [],
      "metadata": {
        "id": "mpjAcNecyREJ"
      }
    },
    {
      "cell_type": "code",
      "source": [
        "# Import the Python SDK\n",
        "import google.generativeai as genai\n",
        "from google.colab import userdata\n",
        "\n",
        "GOOGLE_API_KEY=userdata.get(\"SECRET_KEY\")\n",
        "\n",
        "GOOGLE_API_KEY=GOOGLE_API_KEY\n",
        "genai.configure(api_key=GOOGLE_API_KEY)"
      ],
      "metadata": {
        "id": "BolZ3Yv8vL3k"
      },
      "execution_count": 26,
      "outputs": []
    },
    {
      "cell_type": "markdown",
      "source": [
        "## Listar os modelos disponíveis"
      ],
      "metadata": {
        "id": "N7DgRwTRwhOB"
      }
    },
    {
      "cell_type": "code",
      "source": [
        "for m in genai.list_models():\n",
        "  if 'generateContent' in m.supported_generation_methods:\n",
        "    print(m.name)"
      ],
      "metadata": {
        "colab": {
          "base_uri": "https://localhost:8080/",
          "height": 136
        },
        "id": "Sm2HuwNDwaYU",
        "outputId": "6922841e-66a8-4a8b-dd7e-cadb77841f18"
      },
      "execution_count": 27,
      "outputs": [
        {
          "output_type": "stream",
          "name": "stdout",
          "text": [
            "models/gemini-1.0-pro\n",
            "models/gemini-1.0-pro-001\n",
            "models/gemini-1.0-pro-latest\n",
            "models/gemini-1.0-pro-vision-latest\n",
            "models/gemini-1.5-pro-latest\n",
            "models/gemini-pro\n",
            "models/gemini-pro-vision\n"
          ]
        }
      ]
    },
    {
      "cell_type": "code",
      "source": [
        "# configurando um modelo.\n",
        "\n",
        "gen_config={\n",
        "    \"candidate_count\": 1, # quantidade de resposta.\n",
        "    \"temperature\": 0.5, # maior mais criativo, mais baixo mais fiel.\n",
        "}"
      ],
      "metadata": {
        "id": "_RufkcdL0hSK"
      },
      "execution_count": null,
      "outputs": []
    },
    {
      "cell_type": "code",
      "source": [
        "# configurações de segurança - Safety Settings\n",
        "\n",
        "safety_settings={\n",
        "    \"HARASSMENT\": \"BLOCK_NONE\",\n",
        "    \"HATE\": \"BLOCK_NONE\",\n",
        "    \"SEXUAL\": \"BLOCK_NONE\",\n",
        "    \"DANGEROUS\": \"BLOCK_NONE\",\n",
        "}"
      ],
      "metadata": {
        "id": "X-j-xZ8p1RFe"
      },
      "execution_count": null,
      "outputs": []
    },
    {
      "cell_type": "markdown",
      "source": [
        "## Inicializando o modelo"
      ],
      "metadata": {
        "id": "dZiq2PW-2aGN"
      }
    },
    {
      "cell_type": "code",
      "source": [
        "# Escolhendo qual modelo vou usar.\n",
        "\n",
        "model=genai.GenerativeModel(\n",
        "    model_name=\"gemini-1.0-pro\",\n",
        "    generation_config=gen_config,\n",
        "    safety_settings=safety_settings\n",
        ")"
      ],
      "metadata": {
        "id": "xUIRIP-X2dLx"
      },
      "execution_count": null,
      "outputs": []
    },
    {
      "cell_type": "markdown",
      "source": [
        "## Gerando conteúdo via LLM\n",
        "\n",
        "Acessando nosso modelo."
      ],
      "metadata": {
        "id": "CgS1KaVx3nQA"
      }
    },
    {
      "cell_type": "code",
      "source": [
        "# Testando modelo, perguntando sobre o projeto Gemini da Nasa.\n",
        "\n",
        "response=model.generate_content(\"Me fale sobre o projeto Gemini\")\n",
        "print(response.text)"
      ],
      "metadata": {
        "colab": {
          "base_uri": "https://localhost:8080/",
          "height": 547
        },
        "id": "uFzBgT973rz7",
        "outputId": "b654571f-8f28-49cf-e883-5fea322cf3f1"
      },
      "execution_count": null,
      "outputs": [
        {
          "output_type": "stream",
          "name": "stdout",
          "text": [
            "**Projeto Gemini**\n",
            "\n",
            "O Projeto Gemini foi um programa espacial tripulado dos Estados Unidos que ocorreu entre 1961 e 1966. Seu objetivo principal era desenvolver e testar sistemas e técnicas para voos espaciais de longa duração, pavimentando o caminho para o programa Apollo e o pouso na Lua.\n",
            "\n",
            "**Missões:**\n",
            "\n",
            "O Projeto Gemini consistiu em 10 missões tripuladas:\n",
            "\n",
            "* **Gemini 3:** Primeiro voo tripulado do Projeto Gemini (1965)\n",
            "* **Gemini 4:** Primeira caminhada espacial americana (1965)\n",
            "* **Gemini 5:** Missão de resistência de 8 dias (1965)\n",
            "* **Gemini 6A:** Encontro e acoplamento com a Gemini 7 (1965)\n",
            "* **Gemini 7:** Missão de resistência de 14 dias (1965)\n",
            "* **Gemini 8:** Primeiro acoplamento com um veículo-alvo (1966)\n",
            "* **Gemini 9A:** Encontro com um veículo-alvo (1966)\n",
            "* **Gemini 10:** Caminhada espacial de longa duração (1966)\n",
            "* **Gemini 11:** Encontro e acoplamento com um veículo-alvo (1966)\n",
            "* **Gemini 12:** Última missão do Projeto Gemini (1966)\n",
            "\n",
            "**Principais Conquistas:**\n",
            "\n",
            "* Desenvolvimento de sistemas de suporte à vida para voos espaciais de longa duração\n",
            "* Aperfeiçoamento de técnicas de encontro e acoplamento\n",
            "* Testes de caminhadas espaciais prolongadas\n",
            "* Demonstração da capacidade de realizar manobras orbitais complexas\n",
            "* Treinamento de astronautas para missões lunares\n",
            "\n",
            "**Importância:**\n",
            "\n",
            "O Projeto Gemini foi crucial para o sucesso do programa Apollo. Ele forneceu dados e experiência valiosos que permitiram aos engenheiros projetar e construir a espaçonave e os sistemas necessários para pousar na Lua. As lições aprendidas com o Gemini também foram usadas em programas espaciais subsequentes, incluindo o Ônibus Espacial e a Estação Espacial Internacional.\n"
          ]
        }
      ]
    },
    {
      "cell_type": "markdown",
      "source": [
        "## Iniciando o chat"
      ],
      "metadata": {
        "id": "5Teh_fsk4xcy"
      }
    },
    {
      "cell_type": "code",
      "source": [
        "# Iniciando o chat\n",
        "\n",
        "chat=model.start_chat(history=[])"
      ],
      "metadata": {
        "id": "3HHBFKAm4aet"
      },
      "execution_count": null,
      "outputs": []
    },
    {
      "cell_type": "code",
      "source": [
        "# Pegar do prompt em um loop\n",
        "\n",
        "while True:\n",
        "  prompt=input(\"Esperando prompt: \")\n",
        "  if prompt==\"fim\":\n",
        "    break\n",
        "  response=chat.send_message(prompt)\n",
        "  print(\"Resposta: \", response.text)\n",
        "\n",
        "print(\"Fim do chat, obrigado Google Gemini\")"
      ],
      "metadata": {
        "colab": {
          "base_uri": "https://localhost:8080/",
          "height": 153
        },
        "id": "uHsVb8RY4uDX",
        "outputId": "2a0578e4-ecb5-4138-a1a0-bacd10292879"
      },
      "execution_count": null,
      "outputs": [
        {
          "output_type": "stream",
          "name": "stdout",
          "text": [
            "Esperando prompt: Em que ano foi criado o Cruzeiro Esporte Clube?\n",
            "Resposta:  1921\n",
            "Esperando prompt: Qual é a população de Montes Claros, Minas Gerais?\n",
            "Resposta:  421.227 (estimativa de 2021)\n",
            "Esperando prompt: Qual a temperatura média da cidade?\n",
            "Resposta:  22,5 °C (média anual)\n",
            "Esperando prompt: fim\n",
            "Fim do chat, obrigado Google Gemini\n"
          ]
        }
      ]
    },
    {
      "cell_type": "markdown",
      "source": [
        "## Exibindo o histórico do chat\n",
        "\n",
        "usando Markdown"
      ],
      "metadata": {
        "id": "Qr1oNR6t-NHn"
      }
    },
    {
      "cell_type": "code",
      "source": [
        "# Melhorando a visualização\n",
        "\n",
        "import textwrap\n",
        "from IPython.display import Markdown, display\n",
        "\n",
        "def to_markdown(text):\n",
        "  text=text.replace(\"*\",\" *\")\n",
        "  return Markdown(textwrap.indent(text, \">\", predicate=lambda _: True))\n",
        "\n",
        "# Imprimindo histórico\n",
        "\n",
        "for message in chat.history:\n",
        "  display(to_markdown(f'**{message.role}** : {message.parts[0].text}'))\n",
        "  print(\">>>---------------\")"
      ],
      "metadata": {
        "colab": {
          "base_uri": "https://localhost:8080/",
          "height": 389
        },
        "id": "dL7lCNRs8IBW",
        "outputId": "64c730f7-2d57-4522-d478-45a25d0bdaf2"
      },
      "execution_count": null,
      "outputs": [
        {
          "output_type": "display_data",
          "data": {
            "text/plain": [
              "<IPython.core.display.Markdown object>"
            ],
            "text/markdown": "> * *user * * : Em que ano foi criado o Cruzeiro Esporte Clube?"
          },
          "metadata": {}
        },
        {
          "output_type": "stream",
          "name": "stdout",
          "text": [
            ">>>---------------\n"
          ]
        },
        {
          "output_type": "display_data",
          "data": {
            "text/plain": [
              "<IPython.core.display.Markdown object>"
            ],
            "text/markdown": "> * *model * * : 1921"
          },
          "metadata": {}
        },
        {
          "output_type": "stream",
          "name": "stdout",
          "text": [
            ">>>---------------\n"
          ]
        },
        {
          "output_type": "display_data",
          "data": {
            "text/plain": [
              "<IPython.core.display.Markdown object>"
            ],
            "text/markdown": "> * *user * * : Qual é a população de Montes Claros, Minas Gerais?"
          },
          "metadata": {}
        },
        {
          "output_type": "stream",
          "name": "stdout",
          "text": [
            ">>>---------------\n"
          ]
        },
        {
          "output_type": "display_data",
          "data": {
            "text/plain": [
              "<IPython.core.display.Markdown object>"
            ],
            "text/markdown": "> * *model * * : 421.227 (estimativa de 2021)"
          },
          "metadata": {}
        },
        {
          "output_type": "stream",
          "name": "stdout",
          "text": [
            ">>>---------------\n"
          ]
        },
        {
          "output_type": "display_data",
          "data": {
            "text/plain": [
              "<IPython.core.display.Markdown object>"
            ],
            "text/markdown": "> * *user * * : Qual a temperatura média da cidade?"
          },
          "metadata": {}
        },
        {
          "output_type": "stream",
          "name": "stdout",
          "text": [
            ">>>---------------\n"
          ]
        },
        {
          "output_type": "display_data",
          "data": {
            "text/plain": [
              "<IPython.core.display.Markdown object>"
            ],
            "text/markdown": "> * *model * * : 22,5 °C (média anual)"
          },
          "metadata": {}
        },
        {
          "output_type": "stream",
          "name": "stdout",
          "text": [
            ">>>---------------\n"
          ]
        }
      ]
    }
  ]
}